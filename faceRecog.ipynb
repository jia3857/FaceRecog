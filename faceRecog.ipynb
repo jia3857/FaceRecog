{
 "cells": [
  {
   "cell_type": "markdown",
   "metadata": {},
   "source": [
    "# Implementation of face recognition using neural net "
   ]
  },
  {
   "cell_type": "code",
   "execution_count": 1,
   "metadata": {},
   "outputs": [],
   "source": [
    "%matplotlib inline"
   ]
  },
  {
   "cell_type": "code",
   "execution_count": 2,
   "metadata": {},
   "outputs": [
    {
     "name": "stderr",
     "output_type": "stream",
     "text": [
      "/home/jjyeh/work/notebooks/PyData/_venv/local/lib/python2.7/site-packages/sklearn/cross_validation.py:41: DeprecationWarning: This module was deprecated in version 0.18 in favor of the model_selection module into which all the refactored classes and functions are moved. Also note that the interface of the new CV iterators are different from that of this module. This module will be removed in 0.20.\n",
      "  \"This module will be removed in 0.20.\", DeprecationWarning)\n"
     ]
    }
   ],
   "source": [
    "import cv2\n",
    "import numpy as np\n",
    "import os\n",
    "from skimage import io\n",
    "from sklearn.cross_validation import train_test_split\n",
    "import matplotlib.pyplot as plt"
   ]
  },
  {
   "cell_type": "code",
   "execution_count": 3,
   "metadata": {},
   "outputs": [
    {
     "name": "stderr",
     "output_type": "stream",
     "text": [
      "Using Theano backend.\n"
     ]
    }
   ],
   "source": [
    "os.environ[\"KERAS_BACKEND\"]=\"theano\"\n",
    "from keras.utils import np_utils\n",
    "from keras.models import Sequential\n",
    "from keras.layers import Dense, Dropout, Activation"
   ]
  },
  {
   "cell_type": "markdown",
   "metadata": {},
   "source": [
    "#### Listing the path of all the images"
   ]
  },
  {
   "cell_type": "code",
   "execution_count": 4,
   "metadata": {},
   "outputs": [],
   "source": [
    "DatasetPath = []\n",
    "for i in os.listdir(\"yalefaces\"):\n",
    "    DatasetPath.append(os.path.join(\"yalefaces\", i))"
   ]
  },
  {
   "cell_type": "markdown",
   "metadata": {},
   "source": [
    "#### Reading each image and assigning respective labels"
   ]
  },
  {
   "cell_type": "code",
   "execution_count": 5,
   "metadata": {
    "scrolled": true
   },
   "outputs": [],
   "source": [
    "imageData = []\n",
    "imageLabels = []"
   ]
  },
  {
   "cell_type": "code",
   "execution_count": 6,
   "metadata": {},
   "outputs": [],
   "source": [
    "for i in DatasetPath:\n",
    "    imgRead = io.imread(i,as_grey=True)\n",
    "    imageData.append(imgRead)\n",
    "    \n",
    "    labelRead = int(os.path.split(i)[1].split(\".\")[0].replace(\"subject\", \"\")) - 1\n",
    "    imageLabels.append(labelRead)"
   ]
  },
  {
   "cell_type": "markdown",
   "metadata": {},
   "source": [
    "#### Preprocessing: Face Detection using OpenCV and cropping the image to a size of 150 * 150"
   ]
  },
  {
   "cell_type": "code",
   "execution_count": 7,
   "metadata": {},
   "outputs": [],
   "source": [
    "faceDetectClassifier = cv2.CascadeClassifier(\"haarcascade_frontalface_default.xml\")"
   ]
  },
  {
   "cell_type": "code",
   "execution_count": 8,
   "metadata": {},
   "outputs": [],
   "source": [
    "imageDataFin = []\n",
    "for i in imageData:\n",
    "    facePoints = faceDetectClassifier.detectMultiScale(i)\n",
    "    x,y = facePoints[0][:2]\n",
    "    cropped = i[y: y + 150, x: x + 150]\n",
    "    imageDataFin.append(cropped)"
   ]
  },
  {
   "cell_type": "code",
   "execution_count": 9,
   "metadata": {},
   "outputs": [],
   "source": [
    "c = np.array(imageDataFin)"
   ]
  },
  {
   "cell_type": "code",
   "execution_count": 10,
   "metadata": {},
   "outputs": [
    {
     "data": {
      "text/plain": [
       "(165, 150, 150)"
      ]
     },
     "execution_count": 10,
     "metadata": {},
     "output_type": "execute_result"
    }
   ],
   "source": [
    "c.shape"
   ]
  },
  {
   "cell_type": "markdown",
   "metadata": {},
   "source": [
    "#### Splitting Dataset into train and test"
   ]
  },
  {
   "cell_type": "code",
   "execution_count": 11,
   "metadata": {},
   "outputs": [],
   "source": [
    "X_train, X_test, y_train, y_test = train_test_split(np.array(imageDataFin),np.array(imageLabels), train_size=0.9, random_state = 20)"
   ]
  },
  {
   "cell_type": "code",
   "execution_count": 12,
   "metadata": {},
   "outputs": [],
   "source": [
    "X_train = np.array(X_train)\n",
    "X_test = np.array(X_test)"
   ]
  },
  {
   "cell_type": "code",
   "execution_count": 13,
   "metadata": {},
   "outputs": [
    {
     "data": {
      "text/plain": [
       "(148, 150, 150)"
      ]
     },
     "execution_count": 13,
     "metadata": {},
     "output_type": "execute_result"
    }
   ],
   "source": [
    "X_train.shape"
   ]
  },
  {
   "cell_type": "code",
   "execution_count": 14,
   "metadata": {},
   "outputs": [
    {
     "data": {
      "text/plain": [
       "(17, 150, 150)"
      ]
     },
     "execution_count": 14,
     "metadata": {},
     "output_type": "execute_result"
    }
   ],
   "source": [
    "X_test.shape"
   ]
  },
  {
   "cell_type": "code",
   "execution_count": 15,
   "metadata": {},
   "outputs": [],
   "source": [
    "nb_classes = 15\n",
    "y_train = np.array(y_train) \n",
    "y_test = np.array(y_test) "
   ]
  },
  {
   "cell_type": "code",
   "execution_count": 16,
   "metadata": {},
   "outputs": [],
   "source": [
    "Y_train = np_utils.to_categorical(y_train, nb_classes)\n",
    "Y_test = np_utils.to_categorical(y_test, nb_classes)"
   ]
  },
  {
   "cell_type": "markdown",
   "metadata": {},
   "source": [
    "#### Converting each 2d image into 1D vector"
   ]
  },
  {
   "cell_type": "code",
   "execution_count": 17,
   "metadata": {},
   "outputs": [],
   "source": [
    "X_train = X_train.reshape(148, 150*150)\n",
    "X_test = X_test.reshape(17, 150*150)"
   ]
  },
  {
   "cell_type": "code",
   "execution_count": 18,
   "metadata": {},
   "outputs": [],
   "source": [
    "X_train = X_train.astype('float32')\n",
    "X_test = X_test.astype('float32')\n",
    "\n",
    "X_train /= 255\n",
    "X_test /= 255"
   ]
  },
  {
   "cell_type": "code",
   "execution_count": 19,
   "metadata": {},
   "outputs": [
    {
     "name": "stdout",
     "output_type": "stream",
     "text": [
      "('Training matrix shape', (148, 22500))\n",
      "('Testing matrix shape', (17, 22500))\n"
     ]
    }
   ],
   "source": [
    "print(\"Training matrix shape\", X_train.shape)\n",
    "print(\"Testing matrix shape\", X_test.shape)"
   ]
  },
  {
   "cell_type": "markdown",
   "metadata": {},
   "source": [
    "#### Defining the model"
   ]
  },
  {
   "cell_type": "code",
   "execution_count": 20,
   "metadata": {},
   "outputs": [],
   "source": [
    "model = Sequential()\n",
    "model.add(Dense(512,input_shape=(X_train.shape[1],)))\n",
    "model.add(Activation('relu'))\n",
    "model.add(Dropout(0.2))\n",
    "model.add(Dense(512))\n",
    "model.add(Activation('relu'))\n",
    "model.add(Dropout(0.2))\n",
    "model.add(Dense(nb_classes))\n",
    "model.add(Activation('softmax'))"
   ]
  },
  {
   "cell_type": "code",
   "execution_count": 21,
   "metadata": {},
   "outputs": [
    {
     "name": "stdout",
     "output_type": "stream",
     "text": [
      "_________________________________________________________________\n",
      "Layer (type)                 Output Shape              Param #   \n",
      "=================================================================\n",
      "dense_1 (Dense)              (None, 512)               11520512  \n",
      "_________________________________________________________________\n",
      "activation_1 (Activation)    (None, 512)               0         \n",
      "_________________________________________________________________\n",
      "dropout_1 (Dropout)          (None, 512)               0         \n",
      "_________________________________________________________________\n",
      "dense_2 (Dense)              (None, 512)               262656    \n",
      "_________________________________________________________________\n",
      "activation_2 (Activation)    (None, 512)               0         \n",
      "_________________________________________________________________\n",
      "dropout_2 (Dropout)          (None, 512)               0         \n",
      "_________________________________________________________________\n",
      "dense_3 (Dense)              (None, 15)                7695      \n",
      "_________________________________________________________________\n",
      "activation_3 (Activation)    (None, 15)                0         \n",
      "=================================================================\n",
      "Total params: 11,790,863\n",
      "Trainable params: 11,790,863\n",
      "Non-trainable params: 0\n",
      "_________________________________________________________________\n"
     ]
    }
   ],
   "source": [
    "model.summary()"
   ]
  },
  {
   "cell_type": "code",
   "execution_count": 22,
   "metadata": {},
   "outputs": [],
   "source": [
    "model.compile(loss='categorical_crossentropy', optimizer=\"adam\", metrics=['accuracy'])"
   ]
  },
  {
   "cell_type": "markdown",
   "metadata": {},
   "source": [
    "#### Training"
   ]
  },
  {
   "cell_type": "code",
   "execution_count": 23,
   "metadata": {},
   "outputs": [
    {
     "name": "stderr",
     "output_type": "stream",
     "text": [
      "/home/jjyeh/work/notebooks/PyData/_venv/local/lib/python2.7/site-packages/keras/models.py:848: UserWarning: The `nb_epoch` argument in `fit` has been renamed `epochs`.\n",
      "  warnings.warn('The `nb_epoch` argument in `fit` '\n"
     ]
    },
    {
     "name": "stdout",
     "output_type": "stream",
     "text": [
      "Train on 148 samples, validate on 17 samples\n",
      "Epoch 1/50\n",
      "148/148 [==============================] - 0s - loss: 8.2607 - acc: 0.0743 - val_loss: 12.9135 - val_acc: 0.0588\n",
      "Epoch 2/50\n",
      "148/148 [==============================] - 0s - loss: 12.3105 - acc: 0.0878 - val_loss: 11.1807 - val_acc: 0.1765\n",
      "Epoch 3/50\n",
      "148/148 [==============================] - 0s - loss: 11.7238 - acc: 0.1351 - val_loss: 12.6105 - val_acc: 0.1176\n",
      "Epoch 4/50\n",
      "148/148 [==============================] - 0s - loss: 11.3278 - acc: 0.1689 - val_loss: 13.1973 - val_acc: 0.1176\n",
      "Epoch 5/50\n",
      "148/148 [==============================] - 1s - loss: 10.8285 - acc: 0.1959 - val_loss: 10.5864 - val_acc: 0.2353\n",
      "Epoch 6/50\n",
      "148/148 [==============================] - 0s - loss: 11.9846 - acc: 0.1622 - val_loss: 10.7130 - val_acc: 0.2941\n",
      "Epoch 7/50\n",
      "148/148 [==============================] - 0s - loss: 11.6133 - acc: 0.1622 - val_loss: 10.9083 - val_acc: 0.2353\n",
      "Epoch 8/50\n",
      "148/148 [==============================] - 0s - loss: 11.2276 - acc: 0.2635 - val_loss: 12.0449 - val_acc: 0.1765\n",
      "Epoch 9/50\n",
      "148/148 [==============================] - 0s - loss: 11.4837 - acc: 0.1689 - val_loss: 12.3634 - val_acc: 0.2353\n",
      "Epoch 10/50\n",
      "148/148 [==============================] - 0s - loss: 11.3534 - acc: 0.2635 - val_loss: 11.6912 - val_acc: 0.2353\n",
      "Epoch 11/50\n",
      "148/148 [==============================] - 0s - loss: 10.5677 - acc: 0.2905 - val_loss: 11.6405 - val_acc: 0.1765\n",
      "Epoch 12/50\n",
      "148/148 [==============================] - 0s - loss: 10.0189 - acc: 0.3108 - val_loss: 12.1501 - val_acc: 0.1765\n",
      "Epoch 13/50\n",
      "148/148 [==============================] - 0s - loss: 9.9321 - acc: 0.3378 - val_loss: 11.5489 - val_acc: 0.1765\n",
      "Epoch 14/50\n",
      "148/148 [==============================] - 0s - loss: 8.9662 - acc: 0.3716 - val_loss: 8.3871 - val_acc: 0.3529\n",
      "Epoch 15/50\n",
      "148/148 [==============================] - 1s - loss: 6.6580 - acc: 0.4392 - val_loss: 7.5631 - val_acc: 0.1765\n",
      "Epoch 16/50\n",
      "148/148 [==============================] - 0s - loss: 7.1114 - acc: 0.3851 - val_loss: 6.2415 - val_acc: 0.4118\n",
      "Epoch 17/50\n",
      "148/148 [==============================] - 0s - loss: 5.2198 - acc: 0.5135 - val_loss: 6.8851 - val_acc: 0.3529\n",
      "Epoch 18/50\n",
      "148/148 [==============================] - 0s - loss: 5.3511 - acc: 0.5405 - val_loss: 6.2696 - val_acc: 0.2353\n",
      "Epoch 19/50\n",
      "148/148 [==============================] - 0s - loss: 4.8326 - acc: 0.5608 - val_loss: 5.9349 - val_acc: 0.4118\n",
      "Epoch 20/50\n",
      "148/148 [==============================] - 0s - loss: 4.3571 - acc: 0.6216 - val_loss: 4.9200 - val_acc: 0.3529\n",
      "Epoch 21/50\n",
      "148/148 [==============================] - 0s - loss: 3.5435 - acc: 0.6486 - val_loss: 3.6172 - val_acc: 0.4118\n",
      "Epoch 22/50\n",
      "148/148 [==============================] - 0s - loss: 3.2403 - acc: 0.6149 - val_loss: 2.4066 - val_acc: 0.5882\n",
      "Epoch 23/50\n",
      "148/148 [==============================] - 0s - loss: 2.3216 - acc: 0.6689 - val_loss: 1.9008 - val_acc: 0.6471\n",
      "Epoch 24/50\n",
      "148/148 [==============================] - 0s - loss: 1.7318 - acc: 0.7095 - val_loss: 1.2146 - val_acc: 0.5882\n",
      "Epoch 25/50\n",
      "148/148 [==============================] - 1s - loss: 0.9715 - acc: 0.7432 - val_loss: 0.8982 - val_acc: 0.7647\n",
      "Epoch 26/50\n",
      "148/148 [==============================] - 1s - loss: 0.7803 - acc: 0.7500 - val_loss: 0.9321 - val_acc: 0.6471\n",
      "Epoch 27/50\n",
      "148/148 [==============================] - 1s - loss: 0.6481 - acc: 0.7838 - val_loss: 0.7577 - val_acc: 0.7059\n",
      "Epoch 28/50\n",
      "148/148 [==============================] - 1s - loss: 0.5249 - acc: 0.8378 - val_loss: 0.7123 - val_acc: 0.7059\n",
      "Epoch 29/50\n",
      "148/148 [==============================] - 1s - loss: 0.4777 - acc: 0.8649 - val_loss: 0.7249 - val_acc: 0.6471\n",
      "Epoch 30/50\n",
      "148/148 [==============================] - 0s - loss: 0.3133 - acc: 0.8919 - val_loss: 0.5657 - val_acc: 0.8235\n",
      "Epoch 31/50\n",
      "148/148 [==============================] - 0s - loss: 0.3535 - acc: 0.8851 - val_loss: 0.6274 - val_acc: 0.7647\n",
      "Epoch 32/50\n",
      "148/148 [==============================] - 0s - loss: 0.3069 - acc: 0.9122 - val_loss: 0.6440 - val_acc: 0.7647\n",
      "Epoch 33/50\n",
      "148/148 [==============================] - 1s - loss: 0.2118 - acc: 0.9257 - val_loss: 0.4955 - val_acc: 0.8235\n",
      "Epoch 34/50\n",
      "148/148 [==============================] - 0s - loss: 0.2587 - acc: 0.9122 - val_loss: 0.4381 - val_acc: 0.7647\n",
      "Epoch 35/50\n",
      "148/148 [==============================] - 0s - loss: 0.1060 - acc: 0.9797 - val_loss: 0.5953 - val_acc: 0.7647\n",
      "Epoch 36/50\n",
      "148/148 [==============================] - 0s - loss: 0.1317 - acc: 0.9797 - val_loss: 0.7373 - val_acc: 0.7647\n",
      "Epoch 37/50\n",
      "148/148 [==============================] - 0s - loss: 0.1257 - acc: 0.9527 - val_loss: 0.6828 - val_acc: 0.7647\n",
      "Epoch 38/50\n",
      "148/148 [==============================] - 0s - loss: 0.1177 - acc: 0.9595 - val_loss: 0.5543 - val_acc: 0.7647\n",
      "Epoch 39/50\n",
      "148/148 [==============================] - 1s - loss: 0.0717 - acc: 0.9865 - val_loss: 0.5324 - val_acc: 0.7647\n",
      "Epoch 40/50\n",
      "148/148 [==============================] - 0s - loss: 0.1473 - acc: 0.9595 - val_loss: 0.6262 - val_acc: 0.7647\n",
      "Epoch 41/50\n",
      "148/148 [==============================] - 1s - loss: 0.0876 - acc: 0.9595 - val_loss: 0.7116 - val_acc: 0.7647\n",
      "Epoch 42/50\n",
      "148/148 [==============================] - 1s - loss: 0.1170 - acc: 0.9595 - val_loss: 0.7346 - val_acc: 0.8235\n",
      "Epoch 43/50\n",
      "148/148 [==============================] - 1s - loss: 0.0806 - acc: 0.9730 - val_loss: 0.5836 - val_acc: 0.8235\n",
      "Epoch 44/50\n",
      "148/148 [==============================] - 1s - loss: 0.0490 - acc: 0.9865 - val_loss: 0.4727 - val_acc: 0.8235\n",
      "Epoch 45/50\n",
      "148/148 [==============================] - 1s - loss: 0.0619 - acc: 0.9797 - val_loss: 0.4787 - val_acc: 0.8235\n",
      "Epoch 46/50\n",
      "148/148 [==============================] - 0s - loss: 0.0292 - acc: 1.0000 - val_loss: 0.5494 - val_acc: 0.8235\n",
      "Epoch 47/50\n",
      "148/148 [==============================] - 1s - loss: 0.0463 - acc: 0.9932 - val_loss: 0.5135 - val_acc: 0.8235\n",
      "Epoch 48/50\n",
      "148/148 [==============================] - 0s - loss: 0.0652 - acc: 0.9797 - val_loss: 0.4429 - val_acc: 0.7647\n",
      "Epoch 49/50\n",
      "148/148 [==============================] - 1s - loss: 0.0601 - acc: 0.9797 - val_loss: 0.4431 - val_acc: 0.8235\n",
      "Epoch 50/50\n",
      "148/148 [==============================] - 1s - loss: 0.0243 - acc: 0.9932 - val_loss: 0.5469 - val_acc: 0.7647\n"
     ]
    },
    {
     "data": {
      "text/plain": [
       "<keras.callbacks.History at 0x7fbf09ab3b90>"
      ]
     },
     "execution_count": 23,
     "metadata": {},
     "output_type": "execute_result"
    }
   ],
   "source": [
    "model.fit(X_train, Y_train, batch_size=64, nb_epoch=50, verbose=1, validation_data=(X_test, Y_test))"
   ]
  },
  {
   "cell_type": "markdown",
   "metadata": {},
   "source": [
    "#### Evaluating the performance"
   ]
  },
  {
   "cell_type": "code",
   "execution_count": 24,
   "metadata": {},
   "outputs": [],
   "source": [
    "loss, accuracy = model.evaluate(X_test,Y_test, verbose=0)"
   ]
  },
  {
   "cell_type": "code",
   "execution_count": 25,
   "metadata": {},
   "outputs": [
    {
     "data": {
      "text/plain": [
       "0.54689353704452515"
      ]
     },
     "execution_count": 25,
     "metadata": {},
     "output_type": "execute_result"
    }
   ],
   "source": [
    "loss"
   ]
  },
  {
   "cell_type": "code",
   "execution_count": 26,
   "metadata": {},
   "outputs": [
    {
     "data": {
      "text/plain": [
       "0.76470589637756348"
      ]
     },
     "execution_count": 26,
     "metadata": {},
     "output_type": "execute_result"
    }
   ],
   "source": [
    "accuracy"
   ]
  },
  {
   "cell_type": "code",
   "execution_count": 27,
   "metadata": {},
   "outputs": [
    {
     "name": "stdout",
     "output_type": "stream",
     "text": [
      "17/17 [==============================] - 0s\n"
     ]
    }
   ],
   "source": [
    "predicted_classes = model.predict_classes(X_test)"
   ]
  },
  {
   "cell_type": "code",
   "execution_count": 28,
   "metadata": {},
   "outputs": [],
   "source": [
    "correct_classified_indices = np.nonzero(predicted_classes == y_test)[0]\n",
    "incorrect_classified_indices = np.nonzero(predicted_classes != y_test)[0]"
   ]
  },
  {
   "cell_type": "code",
   "execution_count": 29,
   "metadata": {},
   "outputs": [
    {
     "data": {
      "text/plain": [
       "array([ 0,  1,  3,  4,  5,  7,  8,  9, 10, 11, 12, 14, 15])"
      ]
     },
     "execution_count": 29,
     "metadata": {},
     "output_type": "execute_result"
    }
   ],
   "source": [
    "correct_classified_indices"
   ]
  },
  {
   "cell_type": "code",
   "execution_count": 30,
   "metadata": {},
   "outputs": [
    {
     "data": {
      "text/plain": [
       "array([ 2,  6, 13, 16])"
      ]
     },
     "execution_count": 30,
     "metadata": {},
     "output_type": "execute_result"
    }
   ],
   "source": [
    "incorrect_classified_indices"
   ]
  }
 ],
 "metadata": {
  "kernelspec": {
   "display_name": "Python 2",
   "language": "python",
   "name": "python2"
  },
  "language_info": {
   "codemirror_mode": {
    "name": "ipython",
    "version": 2
   },
   "file_extension": ".py",
   "mimetype": "text/x-python",
   "name": "python",
   "nbconvert_exporter": "python",
   "pygments_lexer": "ipython2",
   "version": "2.7.12"
  }
 },
 "nbformat": 4,
 "nbformat_minor": 1
}
